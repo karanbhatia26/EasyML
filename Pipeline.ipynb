{
 "cells": [
  {
   "cell_type": "code",
   "execution_count": 4,
   "metadata": {},
   "outputs": [],
   "source": [
    "import sklearn\n",
    "from sklearn.linear_model import LinearRegression\n",
    "from sklearn.tree import DecisionTreeRegressor\n",
    "from sklearn.svm import SVR\n",
    "import numpy as np"
   ]
  },
  {
   "cell_type": "code",
   "execution_count": 10,
   "metadata": {},
   "outputs": [],
   "source": [
    "class Model:\n",
    "    def __init__(self, model_type, **kwargs):\n",
    "        self.model_type = model_type\n",
    "        self.model = self.create_model(model_type,**kwargs)\n",
    "\n",
    "    def create_model(self, model_type, **kwargs):\n",
    "        try:\n",
    "            module_name, class_name = model_type.rsplit('.', 1)\n",
    "            module = getattr(sklearn, module_name) \n",
    "            model_class = getattr(module, class_name)\n",
    "            return model_class(**kwargs)\n",
    "        except AttributeError:\n",
    "            raise ValueError(f\"Unsupported model type: {model_type}\")\n",
    "        \n"
   ]
  },
  {
   "cell_type": "code",
   "execution_count": 17,
   "metadata": {},
   "outputs": [],
   "source": [
    "class Pipeline:\n",
    "    def __init__(self, models=None):\n",
    "        self.models = models if models else []\n",
    "\n",
    "    def add_model(self, model):\n",
    "        self.models.append(model)\n",
    "\n",
    "    def run(self, X, y=None):\n",
    "        for i,model in enumerate(self.models):\n",
    "            if i==0 and y is not None:\n",
    "                model.fit(X,y)\n",
    "                X = model.predict(X)\n",
    "            else:\n",
    "                if len(X.shape) == 1:\n",
    "                    X = X.reshape(-1, 1)\n",
    "                if y is not None:\n",
    "                    model.fit(X,y)\n",
    "                    X = model.predict(X)\n",
    "        return X"
   ]
  },
  {
   "cell_type": "code",
   "execution_count": 18,
   "metadata": {},
   "outputs": [
    {
     "name": "stdout",
     "output_type": "stream",
     "text": [
      "[0.1 0.1 0.1 0.9 0.1 0.1 0.1 0.9 0.9 0.1 0.1 0.1 0.1 0.1 0.9 0.1 0.1 0.9\n",
      " 0.9 0.9 0.1 0.1 0.1 0.1 0.9 0.9 0.1 0.9 0.1 0.1 0.9 0.1 0.9 0.1 0.9 0.1\n",
      " 0.9 0.9 0.9 0.9 0.1 0.1 0.1 0.9 0.9 0.9 0.9 0.1 0.1 0.9 0.9 0.1 0.1 0.9\n",
      " 0.1 0.1 0.1 0.9 0.9 0.9 0.1 0.1 0.1 0.9 0.1 0.1 0.1 0.1 0.9 0.9 0.9 0.9\n",
      " 0.1 0.9 0.9 0.1 0.9 0.1 0.1 0.1 0.9 0.9 0.1 0.1 0.1 0.9 0.1 0.9 0.1 0.9\n",
      " 0.1 0.9 0.9 0.9 0.9 0.1 0.1 0.9 0.1 0.9]\n"
     ]
    }
   ],
   "source": [
    "M1 = Model('linear_model.LinearRegression')\n",
    "M2 = Model('tree.DecisionTreeRegressor')\n",
    "M3 = Model('svm.SVR')\n",
    "\n",
    "pipeline = Pipeline([M1.model, M2.model])\n",
    "pipeline.add_model(M3.model)\n",
    "\n",
    "X_train = np.random.rand(100, 5)\n",
    "y_train = np.random.randint(0, 2, size=100)\n",
    "\n",
    "output = pipeline.run(X_train,y_train)\n",
    "print(output)"
   ]
  },
  {
   "cell_type": "code",
   "execution_count": null,
   "metadata": {},
   "outputs": [],
   "source": []
  }
 ],
 "metadata": {
  "kernelspec": {
   "display_name": "Python 3",
   "language": "python",
   "name": "python3"
  },
  "language_info": {
   "codemirror_mode": {
    "name": "ipython",
    "version": 3
   },
   "file_extension": ".py",
   "mimetype": "text/x-python",
   "name": "python",
   "nbconvert_exporter": "python",
   "pygments_lexer": "ipython3",
   "version": "3.12.0"
  }
 },
 "nbformat": 4,
 "nbformat_minor": 2
}
